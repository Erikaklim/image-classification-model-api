{
  "cells": [
    {
      "cell_type": "code",
      "execution_count": null,
      "metadata": {
        "id": "yEky_W68thMh"
      },
      "outputs": [],
      "source": [
        "import os\n",
        "from openimages.download import download_dataset\n",
        "import numpy as np\n",
        "import tensorflow as tf\n",
        "import tensorflow_hub as hub\n",
        "from tensorflow.keras.layers.experimental.preprocessing import Rescaling\n",
        "from tensorflow.keras.callbacks import EarlyStopping\n",
        "from openimages.download import download_dataset"
      ]
    },
    {
      "cell_type": "code",
      "execution_count": null,
      "metadata": {
        "colab": {
          "base_uri": "https://localhost:8080/"
        },
        "id": "SP5YxkT1ti-1",
        "outputId": "37bf09f3-27c3-44b6-f272-598a5e05fdb2"
      },
      "outputs": [
        {
          "name": "stderr",
          "output_type": "stream",
          "text": [
            "100%|██████████| 8000/8000 [03:06<00:00, 42.79it/s]\n",
            "100%|██████████| 8000/8000 [03:08<00:00, 42.50it/s]\n",
            "100%|█████████▉| 7981/8000 [03:05<00:00, 53.40it/s]WARNING:urllib3.connectionpool:Connection pool is full, discarding connection: open-images-dataset.s3.amazonaws.com. Connection pool size: 10\n",
            "100%|██████████| 8000/8000 [03:06<00:00, 42.92it/s]\n"
          ]
        }
      ],
      "source": [
        "from openimages.download import download_dataset\n",
        "import os\n",
        "import shutil\n",
        "from sklearn.model_selection import train_test_split\n",
        "import tensorflow as tf\n",
        "\n",
        "data_dir = \"data\"\n",
        "classes = ['Flower', 'Drink', 'Car']\n",
        "number_of_samples = 8000\n",
        "D = 128\n",
        "batch_size = 32\n",
        "\n",
        "if not os.path.exists(data_dir):\n",
        "    os.makedirs(data_dir)\n",
        "\n",
        "download_dataset(data_dir, classes, limit=number_of_samples)\n",
        "\n",
        "train_dir = os.path.join(data_dir, 'train')\n",
        "val_dir = os.path.join(data_dir, 'validation')\n",
        "os.makedirs(train_dir, exist_ok=True)\n",
        "os.makedirs(val_dir, exist_ok=True)\n",
        "\n",
        "for class_name in classes:\n",
        "    original_class_dir = os.path.join(data_dir, class_name.lower(), 'images')\n",
        "    images = [os.path.join(original_class_dir, img) for img in os.listdir(original_class_dir)]\n",
        "    labels = [class_name] * len(images)\n",
        "\n",
        "    train_imgs, val_imgs = train_test_split(images, test_size=0.2, stratify=labels, random_state=123)\n",
        "\n",
        "    for img_path in train_imgs:\n",
        "        destination = os.path.join(train_dir, class_name, os.path.basename(img_path))\n",
        "        os.makedirs(os.path.dirname(destination), exist_ok=True)\n",
        "        shutil.copy(img_path, destination)\n",
        "\n",
        "    for img_path in val_imgs:\n",
        "        destination = os.path.join(val_dir, class_name, os.path.basename(img_path))\n",
        "        os.makedirs(os.path.dirname(destination), exist_ok=True)\n",
        "        shutil.copy(img_path, destination)\n",
        "\n"
      ]
    },
    {
      "cell_type": "code",
      "execution_count": null,
      "metadata": {
        "colab": {
          "base_uri": "https://localhost:8080/"
        },
        "id": "JAG6GidpSV2I",
        "outputId": "564b3621-554c-47a1-8550-c4559319cd89"
      },
      "outputs": [
        {
          "name": "stdout",
          "output_type": "stream",
          "text": [
            "Found 19200 files belonging to 3 classes.\n",
            "Found 4800 files belonging to 3 classes.\n",
            "Datasets successfully prepared and loaded.\n"
          ]
        }
      ],
      "source": [
        "train_ds = tf.keras.utils.image_dataset_from_directory(\n",
        "    directory=train_dir,\n",
        "    labels='inferred',\n",
        "    label_mode='categorical',\n",
        "    image_size=(D, D),\n",
        "    batch_size=batch_size,\n",
        "    shuffle=True,\n",
        "    seed=123\n",
        ")\n",
        "\n",
        "test_ds = tf.keras.utils.image_dataset_from_directory(\n",
        "    directory=val_dir,\n",
        "    labels='inferred',\n",
        "    label_mode='categorical',\n",
        "    image_size=(D, D),\n",
        "    batch_size=batch_size,\n",
        "    shuffle=False\n",
        ")\n",
        "\n",
        "print(\"Datasets successfully prepared and loaded.\")"
      ]
    },
    {
      "cell_type": "code",
      "execution_count": null,
      "metadata": {
        "id": "C1iqu3g2zb89"
      },
      "outputs": [],
      "source": [
        "D = 128\n",
        "batch_size = 32"
      ]
    },
    {
      "cell_type": "code",
      "execution_count": null,
      "metadata": {
        "id": "ZakHarcptvui"
      },
      "outputs": [],
      "source": [
        "for i in train_ds.take(1):\n",
        "  print(i[1]);"
      ]
    },
    {
      "cell_type": "code",
      "execution_count": null,
      "metadata": {
        "id": "46bVqo3Vtxgw"
      },
      "outputs": [],
      "source": [
        "input = tf.keras.Input(shape=(D,D,3))\n",
        "x= tf.keras.layers.Conv2D(64,(3,3),activation='relu',padding='same' )(input)\n",
        "x= tf.keras.layers.Conv2D(128,(3,3),activation='relu',padding='same')(x)\n",
        "x= tf.keras.layers.Conv2D(128,(3,3),activation='relu',padding='same')(x)\n",
        "x= tf.keras.layers.MaxPooling2D((2,2))(x)\n",
        "x = tf.keras.layers.Dropout(0.5)(x)\n",
        "x= tf.keras.layers.Conv2D(128,(3,3),activation='relu',padding='same')(x)\n",
        "x= tf.keras.layers.Conv2D(256,(3,3),activation='relu',padding='same')(x)\n",
        "x= tf.keras.layers.Conv2D(256,(3,3),activation='relu',padding='same')(x)\n",
        "x = tf.keras.layers.GlobalMaxPooling2D()(x)\n",
        "x = tf.keras.layers.Dropout(0.5)(x)\n",
        "x = tf.keras.layers.Dense(512,activation='relu')(x)\n",
        "x = tf.keras.layers.Dense(256,activation='relu')(x)\n",
        "x = tf.keras.layers.Dense(3,activation='softmax')(x)\n",
        "\n",
        "model = tf.keras.Model(inputs=input, outputs=x)\n"
      ]
    },
    {
      "cell_type": "code",
      "execution_count": null,
      "metadata": {
        "id": "OrL0xftUD0_j"
      },
      "outputs": [],
      "source": [
        "early_stopping = EarlyStopping(\n",
        "    monitor='val_loss',\n",
        "    patience=3,\n",
        "    verbose=1,\n",
        "    restore_best_weights=True\n",
        ")"
      ]
    },
    {
      "cell_type": "code",
      "execution_count": null,
      "metadata": {
        "id": "hDjUePhfufcV"
      },
      "outputs": [],
      "source": [
        "model.compile(loss='categorical_crossentropy',\n",
        "              optimizer='adam',\n",
        "              metrics=['accuracy'])"
      ]
    },
    {
      "cell_type": "code",
      "execution_count": null,
      "metadata": {
        "colab": {
          "base_uri": "https://localhost:8080/"
        },
        "id": "6tIRvWnquhf9",
        "outputId": "5223cbdc-1cc2-416d-ee82-16a78bf84518"
      },
      "outputs": [
        {
          "name": "stdout",
          "output_type": "stream",
          "text": [
            "Epoch 1/30\n",
            "600/600 [==============================] - 208s 313ms/step - loss: 0.9448 - accuracy: 0.6403 - val_loss: 0.7620 - val_accuracy: 0.6648\n",
            "Epoch 2/30\n",
            "600/600 [==============================] - 190s 315ms/step - loss: 0.6734 - accuracy: 0.7265 - val_loss: 0.6084 - val_accuracy: 0.7583\n",
            "Epoch 3/30\n",
            "600/600 [==============================] - 191s 316ms/step - loss: 0.6197 - accuracy: 0.7524 - val_loss: 0.5438 - val_accuracy: 0.7885\n",
            "Epoch 4/30\n",
            "600/600 [==============================] - 192s 316ms/step - loss: 0.5814 - accuracy: 0.7678 - val_loss: 0.5142 - val_accuracy: 0.8135\n",
            "Epoch 5/30\n",
            "600/600 [==============================] - 190s 314ms/step - loss: 0.5520 - accuracy: 0.7802 - val_loss: 0.5056 - val_accuracy: 0.8067\n",
            "Epoch 6/30\n",
            "600/600 [==============================] - 189s 313ms/step - loss: 0.5371 - accuracy: 0.7858 - val_loss: 0.5348 - val_accuracy: 0.7948\n",
            "Epoch 7/30\n",
            "600/600 [==============================] - 190s 315ms/step - loss: 0.6081 - accuracy: 0.7592 - val_loss: 0.5647 - val_accuracy: 0.7900\n",
            "Epoch 8/30\n",
            "600/600 [==============================] - 191s 316ms/step - loss: 0.5382 - accuracy: 0.7857 - val_loss: 0.4849 - val_accuracy: 0.8252\n",
            "Epoch 9/30\n",
            "600/600 [==============================] - 191s 316ms/step - loss: 0.5142 - accuracy: 0.8003 - val_loss: 0.4876 - val_accuracy: 0.8298\n",
            "Epoch 10/30\n",
            "600/600 [==============================] - 190s 314ms/step - loss: 0.4956 - accuracy: 0.8065 - val_loss: 0.5314 - val_accuracy: 0.7969\n",
            "Epoch 11/30\n",
            "600/600 [==============================] - 205s 339ms/step - loss: 0.4854 - accuracy: 0.8116 - val_loss: 0.4472 - val_accuracy: 0.8248\n",
            "Epoch 12/30\n",
            "600/600 [==============================] - 192s 316ms/step - loss: 0.4823 - accuracy: 0.8128 - val_loss: 0.4537 - val_accuracy: 0.8267\n",
            "Epoch 13/30\n",
            "600/600 [==============================] - 192s 317ms/step - loss: 0.4766 - accuracy: 0.8144 - val_loss: 0.4461 - val_accuracy: 0.8256\n",
            "Epoch 14/30\n",
            "600/600 [==============================] - 193s 319ms/step - loss: 0.4627 - accuracy: 0.8226 - val_loss: 0.4371 - val_accuracy: 0.8352\n",
            "Epoch 15/30\n",
            "600/600 [==============================] - 194s 321ms/step - loss: 0.4726 - accuracy: 0.8156 - val_loss: 0.4171 - val_accuracy: 0.8465\n",
            "Epoch 16/30\n",
            "600/600 [==============================] - 195s 320ms/step - loss: 0.4464 - accuracy: 0.8266 - val_loss: 0.4271 - val_accuracy: 0.8369\n",
            "Epoch 17/30\n",
            "600/600 [==============================] - 197s 326ms/step - loss: 0.4526 - accuracy: 0.8276 - val_loss: 0.4114 - val_accuracy: 0.8492\n",
            "Epoch 18/30\n",
            "600/600 [==============================] - 201s 332ms/step - loss: 0.4481 - accuracy: 0.8278 - val_loss: 0.4081 - val_accuracy: 0.8529\n",
            "Epoch 19/30\n",
            "600/600 [==============================] - 202s 334ms/step - loss: 0.4548 - accuracy: 0.8235 - val_loss: 0.3925 - val_accuracy: 0.8521\n",
            "Epoch 20/30\n",
            "600/600 [==============================] - 200s 330ms/step - loss: 0.4363 - accuracy: 0.8306 - val_loss: 0.4124 - val_accuracy: 0.8419\n",
            "Epoch 21/30\n",
            "600/600 [==============================] - 195s 322ms/step - loss: 0.4294 - accuracy: 0.8368 - val_loss: 0.4218 - val_accuracy: 0.8408\n",
            "Epoch 22/30\n",
            "600/600 [==============================] - 195s 323ms/step - loss: 0.4265 - accuracy: 0.8382 - val_loss: 0.4108 - val_accuracy: 0.8492\n",
            "Epoch 23/30\n",
            "600/600 [==============================] - 195s 322ms/step - loss: 0.4218 - accuracy: 0.8389 - val_loss: 0.4632 - val_accuracy: 0.8292\n",
            "Epoch 24/30\n",
            "600/600 [==============================] - 195s 323ms/step - loss: 0.4246 - accuracy: 0.8371 - val_loss: 0.4676 - val_accuracy: 0.8160\n",
            "Epoch 25/30\n",
            "600/600 [==============================] - 195s 323ms/step - loss: 0.4197 - accuracy: 0.8425 - val_loss: 0.4486 - val_accuracy: 0.8356\n",
            "Epoch 26/30\n",
            "600/600 [==============================] - 196s 325ms/step - loss: 0.4085 - accuracy: 0.8449 - val_loss: 0.4084 - val_accuracy: 0.8494\n",
            "Epoch 27/30\n",
            "600/600 [==============================] - 195s 321ms/step - loss: 0.4083 - accuracy: 0.8469 - val_loss: 0.3706 - val_accuracy: 0.8637\n",
            "Epoch 28/30\n",
            "600/600 [==============================] - 197s 325ms/step - loss: 0.4124 - accuracy: 0.8447 - val_loss: 0.3790 - val_accuracy: 0.8598\n",
            "Epoch 29/30\n",
            "600/600 [==============================] - 196s 324ms/step - loss: 0.4015 - accuracy: 0.8473 - val_loss: 0.4238 - val_accuracy: 0.8415\n",
            "Epoch 30/30\n",
            "600/600 [==============================] - 196s 325ms/step - loss: 0.4156 - accuracy: 0.8455 - val_loss: 0.4472 - val_accuracy: 0.8435\n"
          ]
        }
      ],
      "source": [
        "epochs_number = 30\n",
        "\n",
        "history = model.fit(train_ds, epochs=epochs_number, validation_data=test_ds)"
      ]
    },
    {
      "cell_type": "code",
      "execution_count": null,
      "metadata": {
        "id": "YiZB1toMujXe"
      },
      "outputs": [],
      "source": [
        "import matplotlib.pyplot as plt"
      ]
    },
    {
      "cell_type": "code",
      "execution_count": null,
      "metadata": {
        "colab": {
          "base_uri": "https://localhost:8080/",
          "height": 430
        },
        "id": "f1_jn8q7ulFR",
        "outputId": "b8e595e7-90ab-4d23-9722-52e83a9b0c76"
      },
      "outputs": [
        {
          "data": {
            "image/png": "[encoded data removed]",
            "text/plain": [
              "<Figure size 640x480 with 1 Axes>"
            ]
          },
          "metadata": {},
          "output_type": "display_data"
        }
      ],
      "source": [
        "epochs = [i for i in range(epochs_number)]\n",
        "plt.plot(epochs, history.history['loss'])\n",
        "plt.plot(epochs, history.history['val_loss'])\n",
        "plt.show()"
      ]
    },
    {
      "cell_type": "code",
      "execution_count": null,
      "metadata": {
        "colab": {
          "base_uri": "https://localhost:8080/",
          "height": 430
        },
        "id": "wgbF7WZ1xhcb",
        "outputId": "20e543f6-85aa-4b35-f6aa-3ec5b937885c"
      },
      "outputs": [
        {
          "data": {
            "image/png": "[encoded data removed]",
            "text/plain": [
              "<Figure size 640x480 with 1 Axes>"
            ]
          },
          "metadata": {},
          "output_type": "display_data"
        }
      ],
      "source": [
        "plt.plot(epochs, history.history['accuracy'])\n",
        "plt.plot(epochs, history.history['val_accuracy'])\n",
        "plt.show()"
      ]
    },
    {
      "cell_type": "code",
      "execution_count": null,
      "metadata": {
        "id": "vDWStNp2umpc"
      },
      "outputs": [],
      "source": [
        "from sklearn.metrics import confusion_matrix, accuracy_score, precision_score, recall_score, f1_score"
      ]
    },
    {
      "cell_type": "code",
      "execution_count": null,
      "metadata": {
        "colab": {
          "base_uri": "https://localhost:8080/"
        },
        "id": "WH-yPH3Juour",
        "outputId": "f1bf3d16-009d-4913-a5ff-16d3fccdd9a3"
      },
      "outputs": [
        {
          "name": "stdout",
          "output_type": "stream",
          "text": [
            "150/150 [==============================] - 31s 207ms/step\n"
          ]
        }
      ],
      "source": [
        "predictions = model.predict(test_ds)\n",
        "predicted_labels = np.argmax(predictions, axis=1)\n",
        "true_labels = np.concatenate([y for x, y in test_ds], axis=0)\n",
        "true_labels = np.argmax(true_labels, axis=1)"
      ]
    },
    {
      "cell_type": "code",
      "execution_count": null,
      "metadata": {
        "colab": {
          "base_uri": "https://localhost:8080/"
        },
        "id": "_w2Xm4gwuqhP",
        "outputId": "e06980d0-9367-43e2-e864-639afee3e684"
      },
      "outputs": [
        {
          "name": "stdout",
          "output_type": "stream",
          "text": [
            "Confusion Matrix:\n",
            "[[1367  119  114]\n",
            " [ 175 1256  169]\n",
            " [  53  121 1426]]\n",
            "Accuracy: 0.8435\n",
            "Precision: 0.8437\n",
            "Recall: 0.8435\n",
            "F1 Score: 0.8430\n"
          ]
        }
      ],
      "source": [
        "conf_matrix = confusion_matrix(true_labels, predicted_labels)\n",
        "accuracy = accuracy_score(true_labels, predicted_labels)\n",
        "precision = precision_score(true_labels, predicted_labels, average='macro')\n",
        "recall = recall_score(true_labels, predicted_labels, average='macro')\n",
        "f1 = f1_score(true_labels, predicted_labels, average='macro')\n",
        "\n",
        "print(f\"Confusion Matrix:\\n{conf_matrix}\")\n",
        "print(f\"Accuracy: {accuracy:.4f}\")\n",
        "print(f\"Precision: {precision:.4f}\")\n",
        "print(f\"Recall: {recall:.4f}\")\n",
        "print(f\"F1 Score: {f1:.4f}\")\n"
      ]
    },
    {
      "cell_type": "code",
      "execution_count": null,
      "metadata": {
        "colab": {
          "base_uri": "https://localhost:8080/"
        },
        "id": "Hqk-bEdMusx_",
        "outputId": "86b6c474-d0d2-417a-dae3-30bf1f1b3373"
      },
      "outputs": [
        {
          "name": "stdout",
          "output_type": "stream",
          "text": [
            "Mounted at /content/drive\n"
          ]
        }
      ],
      "source": [
        "from google.colab import drive\n",
        "drive.mount('/content/drive')"
      ]
    },
    {
      "cell_type": "code",
      "execution_count": null,
      "metadata": {
        "id": "mO0jRbLWuuQa"
      },
      "outputs": [],
      "source": [
        "model.save('/content/drive/My Drive/my_model.h5')"
      ]
    }
  ],
  "metadata": {
    "accelerator": "GPU",
    "colab": {
      "gpuType": "T4",
      "provenance": []
    },
    "kernelspec": {
      "display_name": "Python 3",
      "name": "python3"
    },
    "language_info": {
      "name": "python"
    }
  },
  "nbformat": 4,
  "nbformat_minor": 0
}